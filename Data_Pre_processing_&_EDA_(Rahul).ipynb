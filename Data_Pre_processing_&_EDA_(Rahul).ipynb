{
  "nbformat": 4,
  "nbformat_minor": 0,
  "metadata": {
    "colab": {
      "name": "Data Pre-processing & EDA (Rahul).ipynb",
      "provenance": [],
      "collapsed_sections": []
    },
    "kernelspec": {
      "name": "python3",
      "display_name": "Python 3"
    },
    "language_info": {
      "name": "python"
    }
  },
  "cells": [
    {
      "cell_type": "code",
      "metadata": {
        "id": "4EF93x5hJ8Ur"
      },
      "source": [
        "# Standard libraries\n",
        "import re\n",
        "import csv\n",
        "import nltk\n",
        "import spacy\n",
        "import string\n",
        "import numpy as np\n",
        "import pandas as pd\n",
        "import seaborn as sns\n",
        "import matplotlib.pyplot as plt \n",
        "\n",
        "\n"
      ],
      "execution_count": 1,
      "outputs": []
    },
    {
      "cell_type": "code",
      "metadata": {
        "id": "B1IXY2UfK3ag"
      },
      "source": [
        "# Style\n",
        "import matplotlib.style as style \n",
        "sns.set(font_scale=1.5)\n",
        "style.use('seaborn-pastel')\n",
        "style.use('seaborn-poster')\n",
        "from PIL import Image\n",
        "from wordcloud import WordCloud"
      ],
      "execution_count": 2,
      "outputs": []
    },
    {
      "cell_type": "code",
      "metadata": {
        "id": "2P1x2AiDLR01"
      },
      "source": [
        "# Preprocessing\n",
        "import en_core_web_sm\n",
        "from collections import Counter\n",
        "from nltk.probability import FreqDist\n",
        "from nltk.tokenize import word_tokenize\n",
        "from nltk.stem import WordNetLemmatizer \n",
        "from nltk.corpus import stopwords, wordnet  \n",
        "from sklearn.feature_extraction.text import CountVectorizer   \n",
        "from sklearn.feature_extraction.text import TfidfVectorizer\n",
        "from sklearn.feature_extraction.text import TfidfTransformer \n",
        "from sklearn.model_selection import train_test_split, RandomizedSearchCV"
      ],
      "execution_count": 3,
      "outputs": []
    },
    {
      "cell_type": "code",
      "metadata": {
        "id": "WA3Pt9C_LXab"
      },
      "source": [
        "# Building classification models\n",
        "from sklearn.svm import LinearSVC\n",
        "from sklearn.pipeline import Pipeline\n",
        "from sklearn.naive_bayes import MultinomialNB\n",
        "from sklearn.neighbors import KNeighborsClassifier\n",
        "from sklearn.ensemble import RandomForestClassifier\n",
        "from sklearn.linear_model import LogisticRegression"
      ],
      "execution_count": 4,
      "outputs": []
    },
    {
      "cell_type": "code",
      "metadata": {
        "id": "-JPLFpT9LaWq"
      },
      "source": [
        "# Model evaluation\n",
        "from sklearn import metrics\n",
        "from sklearn.metrics import classification_report, confusion_matrix, f1_score, precision_score, recall_score"
      ],
      "execution_count": 5,
      "outputs": []
    },
    {
      "cell_type": "code",
      "metadata": {
        "colab": {
          "base_uri": "https://localhost:8080/",
          "height": 419
        },
        "id": "4exXnwyfLfkc",
        "outputId": "76735497-a919-4193-ba9a-7ad41c7b078e"
      },
      "source": [
        "#importing thr data\n",
        "tweet_data= pd.read_csv('/content/twitter_sentiment_data.csv')\n",
        "tweet_data"
      ],
      "execution_count": 6,
      "outputs": [
        {
          "output_type": "execute_result",
          "data": {
            "text/html": [
              "<div>\n",
              "<style scoped>\n",
              "    .dataframe tbody tr th:only-of-type {\n",
              "        vertical-align: middle;\n",
              "    }\n",
              "\n",
              "    .dataframe tbody tr th {\n",
              "        vertical-align: top;\n",
              "    }\n",
              "\n",
              "    .dataframe thead th {\n",
              "        text-align: right;\n",
              "    }\n",
              "</style>\n",
              "<table border=\"1\" class=\"dataframe\">\n",
              "  <thead>\n",
              "    <tr style=\"text-align: right;\">\n",
              "      <th></th>\n",
              "      <th>sentiment</th>\n",
              "      <th>message</th>\n",
              "      <th>tweetid</th>\n",
              "    </tr>\n",
              "  </thead>\n",
              "  <tbody>\n",
              "    <tr>\n",
              "      <th>0</th>\n",
              "      <td>-1</td>\n",
              "      <td>@tiniebeany climate change is an interesting h...</td>\n",
              "      <td>792927353886371840</td>\n",
              "    </tr>\n",
              "    <tr>\n",
              "      <th>1</th>\n",
              "      <td>1</td>\n",
              "      <td>RT @NatGeoChannel: Watch #BeforeTheFlood right...</td>\n",
              "      <td>793124211518832641</td>\n",
              "    </tr>\n",
              "    <tr>\n",
              "      <th>2</th>\n",
              "      <td>1</td>\n",
              "      <td>Fabulous! Leonardo #DiCaprio's film on #climat...</td>\n",
              "      <td>793124402388832256</td>\n",
              "    </tr>\n",
              "    <tr>\n",
              "      <th>3</th>\n",
              "      <td>1</td>\n",
              "      <td>RT @Mick_Fanning: Just watched this amazing do...</td>\n",
              "      <td>793124635873275904</td>\n",
              "    </tr>\n",
              "    <tr>\n",
              "      <th>4</th>\n",
              "      <td>2</td>\n",
              "      <td>RT @cnalive: Pranita Biswasi, a Lutheran from ...</td>\n",
              "      <td>793125156185137153</td>\n",
              "    </tr>\n",
              "    <tr>\n",
              "      <th>...</th>\n",
              "      <td>...</td>\n",
              "      <td>...</td>\n",
              "      <td>...</td>\n",
              "    </tr>\n",
              "    <tr>\n",
              "      <th>43938</th>\n",
              "      <td>1</td>\n",
              "      <td>Dear @realDonaldTrump,\\nYeah right. Human Medi...</td>\n",
              "      <td>791307031919550464</td>\n",
              "    </tr>\n",
              "    <tr>\n",
              "      <th>43939</th>\n",
              "      <td>1</td>\n",
              "      <td>What will your respective parties do to preven...</td>\n",
              "      <td>791316857403936768</td>\n",
              "    </tr>\n",
              "    <tr>\n",
              "      <th>43940</th>\n",
              "      <td>2</td>\n",
              "      <td>RT @MikkiL: UN Poll Shows Climate Change Is th...</td>\n",
              "      <td>791357509101621249</td>\n",
              "    </tr>\n",
              "    <tr>\n",
              "      <th>43941</th>\n",
              "      <td>0</td>\n",
              "      <td>RT @taehbeingextra: i still can$q$t believe th...</td>\n",
              "      <td>791390042136641537</td>\n",
              "    </tr>\n",
              "    <tr>\n",
              "      <th>43942</th>\n",
              "      <td>1</td>\n",
              "      <td>@Likeabat77 @zachhaller \\n\\nThe wealthy + foss...</td>\n",
              "      <td>791401610308038656</td>\n",
              "    </tr>\n",
              "  </tbody>\n",
              "</table>\n",
              "<p>43943 rows × 3 columns</p>\n",
              "</div>"
            ],
            "text/plain": [
              "       sentiment  ...             tweetid\n",
              "0             -1  ...  792927353886371840\n",
              "1              1  ...  793124211518832641\n",
              "2              1  ...  793124402388832256\n",
              "3              1  ...  793124635873275904\n",
              "4              2  ...  793125156185137153\n",
              "...          ...  ...                 ...\n",
              "43938          1  ...  791307031919550464\n",
              "43939          1  ...  791316857403936768\n",
              "43940          2  ...  791357509101621249\n",
              "43941          0  ...  791390042136641537\n",
              "43942          1  ...  791401610308038656\n",
              "\n",
              "[43943 rows x 3 columns]"
            ]
          },
          "metadata": {
            "tags": []
          },
          "execution_count": 6
        }
      ]
    },
    {
      "cell_type": "code",
      "metadata": {
        "colab": {
          "base_uri": "https://localhost:8080/",
          "height": 359
        },
        "id": "qgr1RdQDMWD5",
        "outputId": "a7bba434-df99-4d03-f43e-45064ff3641d"
      },
      "source": [
        "#drop the sentiment value 2\n",
        "tweet_data.drop(tweet_data[tweet_data['sentiment'] == 2].index , inplace = True)\n",
        "tweet_data.head(10)"
      ],
      "execution_count": 7,
      "outputs": [
        {
          "output_type": "execute_result",
          "data": {
            "text/html": [
              "<div>\n",
              "<style scoped>\n",
              "    .dataframe tbody tr th:only-of-type {\n",
              "        vertical-align: middle;\n",
              "    }\n",
              "\n",
              "    .dataframe tbody tr th {\n",
              "        vertical-align: top;\n",
              "    }\n",
              "\n",
              "    .dataframe thead th {\n",
              "        text-align: right;\n",
              "    }\n",
              "</style>\n",
              "<table border=\"1\" class=\"dataframe\">\n",
              "  <thead>\n",
              "    <tr style=\"text-align: right;\">\n",
              "      <th></th>\n",
              "      <th>sentiment</th>\n",
              "      <th>message</th>\n",
              "      <th>tweetid</th>\n",
              "    </tr>\n",
              "  </thead>\n",
              "  <tbody>\n",
              "    <tr>\n",
              "      <th>0</th>\n",
              "      <td>-1</td>\n",
              "      <td>@tiniebeany climate change is an interesting h...</td>\n",
              "      <td>792927353886371840</td>\n",
              "    </tr>\n",
              "    <tr>\n",
              "      <th>1</th>\n",
              "      <td>1</td>\n",
              "      <td>RT @NatGeoChannel: Watch #BeforeTheFlood right...</td>\n",
              "      <td>793124211518832641</td>\n",
              "    </tr>\n",
              "    <tr>\n",
              "      <th>2</th>\n",
              "      <td>1</td>\n",
              "      <td>Fabulous! Leonardo #DiCaprio's film on #climat...</td>\n",
              "      <td>793124402388832256</td>\n",
              "    </tr>\n",
              "    <tr>\n",
              "      <th>3</th>\n",
              "      <td>1</td>\n",
              "      <td>RT @Mick_Fanning: Just watched this amazing do...</td>\n",
              "      <td>793124635873275904</td>\n",
              "    </tr>\n",
              "    <tr>\n",
              "      <th>5</th>\n",
              "      <td>0</td>\n",
              "      <td>Unamshow awache kujinga na iko global warming ...</td>\n",
              "      <td>793125429418815489</td>\n",
              "    </tr>\n",
              "    <tr>\n",
              "      <th>8</th>\n",
              "      <td>0</td>\n",
              "      <td>RT @AmericanIndian8: Leonardo DiCaprio's clima...</td>\n",
              "      <td>793127097854197761</td>\n",
              "    </tr>\n",
              "    <tr>\n",
              "      <th>9</th>\n",
              "      <td>1</td>\n",
              "      <td>#BeforeTheFlood Watch #BeforeTheFlood right he...</td>\n",
              "      <td>793127346106753028</td>\n",
              "    </tr>\n",
              "    <tr>\n",
              "      <th>10</th>\n",
              "      <td>1</td>\n",
              "      <td>RT @DrDeJarnett: It's vital that the public he...</td>\n",
              "      <td>793127915269480448</td>\n",
              "    </tr>\n",
              "    <tr>\n",
              "      <th>11</th>\n",
              "      <td>1</td>\n",
              "      <td>Bangladesh did not cause climate change, so th...</td>\n",
              "      <td>793129746003615745</td>\n",
              "    </tr>\n",
              "    <tr>\n",
              "      <th>12</th>\n",
              "      <td>1</td>\n",
              "      <td>RT @NatGeoChannel: Watch #BeforeTheFlood right...</td>\n",
              "      <td>793129922210492417</td>\n",
              "    </tr>\n",
              "  </tbody>\n",
              "</table>\n",
              "</div>"
            ],
            "text/plain": [
              "    sentiment  ...             tweetid\n",
              "0          -1  ...  792927353886371840\n",
              "1           1  ...  793124211518832641\n",
              "2           1  ...  793124402388832256\n",
              "3           1  ...  793124635873275904\n",
              "5           0  ...  793125429418815489\n",
              "8           0  ...  793127097854197761\n",
              "9           1  ...  793127346106753028\n",
              "10          1  ...  793127915269480448\n",
              "11          1  ...  793129746003615745\n",
              "12          1  ...  793129922210492417\n",
              "\n",
              "[10 rows x 3 columns]"
            ]
          },
          "metadata": {
            "tags": []
          },
          "execution_count": 7
        }
      ]
    },
    {
      "cell_type": "code",
      "metadata": {
        "colab": {
          "base_uri": "https://localhost:8080/"
        },
        "id": "tnzKroDWNdko",
        "outputId": "ac149848-5a47-46af-eb20-6228f67e23dd"
      },
      "source": [
        "print(tweet_data.shape)"
      ],
      "execution_count": 8,
      "outputs": [
        {
          "output_type": "stream",
          "text": [
            "(34667, 3)\n"
          ],
          "name": "stdout"
        }
      ]
    },
    {
      "cell_type": "code",
      "metadata": {
        "colab": {
          "base_uri": "https://localhost:8080/"
        },
        "id": "7KbytbytNqz0",
        "outputId": "1ecd55b0-8d24-4288-c736-883df21b7e0a"
      },
      "source": [
        "print(f\"No of Duplicated tweets in data: {tweet_data.duplicated('message').sum()}\")"
      ],
      "execution_count": 9,
      "outputs": [
        {
          "output_type": "stream",
          "text": [
            "No of Duplicated tweets in data: 2705\n"
          ],
          "name": "stdout"
        }
      ]
    },
    {
      "cell_type": "markdown",
      "metadata": {
        "id": "62zwQ84KO6pj"
      },
      "source": [
        "Lets Create a copy of data by replacing sentiment values with str and removing the duplicate values"
      ]
    },
    {
      "cell_type": "code",
      "metadata": {
        "colab": {
          "base_uri": "https://localhost:8080/",
          "height": 419
        },
        "id": "Qqc4SSzwN25f",
        "outputId": "79ede7af-fe97-4cba-ac15-7743bca7b83c"
      },
      "source": [
        "tweet_data.copy()"
      ],
      "execution_count": 10,
      "outputs": [
        {
          "output_type": "execute_result",
          "data": {
            "text/html": [
              "<div>\n",
              "<style scoped>\n",
              "    .dataframe tbody tr th:only-of-type {\n",
              "        vertical-align: middle;\n",
              "    }\n",
              "\n",
              "    .dataframe tbody tr th {\n",
              "        vertical-align: top;\n",
              "    }\n",
              "\n",
              "    .dataframe thead th {\n",
              "        text-align: right;\n",
              "    }\n",
              "</style>\n",
              "<table border=\"1\" class=\"dataframe\">\n",
              "  <thead>\n",
              "    <tr style=\"text-align: right;\">\n",
              "      <th></th>\n",
              "      <th>sentiment</th>\n",
              "      <th>message</th>\n",
              "      <th>tweetid</th>\n",
              "    </tr>\n",
              "  </thead>\n",
              "  <tbody>\n",
              "    <tr>\n",
              "      <th>0</th>\n",
              "      <td>-1</td>\n",
              "      <td>@tiniebeany climate change is an interesting h...</td>\n",
              "      <td>792927353886371840</td>\n",
              "    </tr>\n",
              "    <tr>\n",
              "      <th>1</th>\n",
              "      <td>1</td>\n",
              "      <td>RT @NatGeoChannel: Watch #BeforeTheFlood right...</td>\n",
              "      <td>793124211518832641</td>\n",
              "    </tr>\n",
              "    <tr>\n",
              "      <th>2</th>\n",
              "      <td>1</td>\n",
              "      <td>Fabulous! Leonardo #DiCaprio's film on #climat...</td>\n",
              "      <td>793124402388832256</td>\n",
              "    </tr>\n",
              "    <tr>\n",
              "      <th>3</th>\n",
              "      <td>1</td>\n",
              "      <td>RT @Mick_Fanning: Just watched this amazing do...</td>\n",
              "      <td>793124635873275904</td>\n",
              "    </tr>\n",
              "    <tr>\n",
              "      <th>5</th>\n",
              "      <td>0</td>\n",
              "      <td>Unamshow awache kujinga na iko global warming ...</td>\n",
              "      <td>793125429418815489</td>\n",
              "    </tr>\n",
              "    <tr>\n",
              "      <th>...</th>\n",
              "      <td>...</td>\n",
              "      <td>...</td>\n",
              "      <td>...</td>\n",
              "    </tr>\n",
              "    <tr>\n",
              "      <th>43936</th>\n",
              "      <td>1</td>\n",
              "      <td>#AikBaatSuniThi \\nGlobal warming has negative ...</td>\n",
              "      <td>791293803877502976</td>\n",
              "    </tr>\n",
              "    <tr>\n",
              "      <th>43938</th>\n",
              "      <td>1</td>\n",
              "      <td>Dear @realDonaldTrump,\\nYeah right. Human Medi...</td>\n",
              "      <td>791307031919550464</td>\n",
              "    </tr>\n",
              "    <tr>\n",
              "      <th>43939</th>\n",
              "      <td>1</td>\n",
              "      <td>What will your respective parties do to preven...</td>\n",
              "      <td>791316857403936768</td>\n",
              "    </tr>\n",
              "    <tr>\n",
              "      <th>43941</th>\n",
              "      <td>0</td>\n",
              "      <td>RT @taehbeingextra: i still can$q$t believe th...</td>\n",
              "      <td>791390042136641537</td>\n",
              "    </tr>\n",
              "    <tr>\n",
              "      <th>43942</th>\n",
              "      <td>1</td>\n",
              "      <td>@Likeabat77 @zachhaller \\n\\nThe wealthy + foss...</td>\n",
              "      <td>791401610308038656</td>\n",
              "    </tr>\n",
              "  </tbody>\n",
              "</table>\n",
              "<p>34667 rows × 3 columns</p>\n",
              "</div>"
            ],
            "text/plain": [
              "       sentiment  ...             tweetid\n",
              "0             -1  ...  792927353886371840\n",
              "1              1  ...  793124211518832641\n",
              "2              1  ...  793124402388832256\n",
              "3              1  ...  793124635873275904\n",
              "5              0  ...  793125429418815489\n",
              "...          ...  ...                 ...\n",
              "43936          1  ...  791293803877502976\n",
              "43938          1  ...  791307031919550464\n",
              "43939          1  ...  791316857403936768\n",
              "43941          0  ...  791390042136641537\n",
              "43942          1  ...  791401610308038656\n",
              "\n",
              "[34667 rows x 3 columns]"
            ]
          },
          "metadata": {
            "tags": []
          },
          "execution_count": 10
        }
      ]
    },
    {
      "cell_type": "code",
      "metadata": {
        "colab": {
          "base_uri": "https://localhost:8080/",
          "height": 204
        },
        "id": "Y7p03BSmOPS4",
        "outputId": "dd8d6d73-dfdb-4f10-8d0f-c45580562345"
      },
      "source": [
        "def update(df):\n",
        "  df = tweet_data.copy()\n",
        "  sentiment = df['sentiment']\n",
        "  word_sentiment = []\n",
        "\n",
        "  for i in sentiment :\n",
        "        if i == 1 :\n",
        "          word_sentiment.append('Positive')\n",
        "        elif i==0 :\n",
        "          word_sentiment.append('Neutral')\n",
        "        else:\n",
        "          word_sentiment.append('Negative')\n",
        "     \n",
        "  df['sentiment'] = word_sentiment   \n",
        "  return df\n",
        "\n",
        "df = update(tweet_data)\n",
        "df.head()"
      ],
      "execution_count": 11,
      "outputs": [
        {
          "output_type": "execute_result",
          "data": {
            "text/html": [
              "<div>\n",
              "<style scoped>\n",
              "    .dataframe tbody tr th:only-of-type {\n",
              "        vertical-align: middle;\n",
              "    }\n",
              "\n",
              "    .dataframe tbody tr th {\n",
              "        vertical-align: top;\n",
              "    }\n",
              "\n",
              "    .dataframe thead th {\n",
              "        text-align: right;\n",
              "    }\n",
              "</style>\n",
              "<table border=\"1\" class=\"dataframe\">\n",
              "  <thead>\n",
              "    <tr style=\"text-align: right;\">\n",
              "      <th></th>\n",
              "      <th>sentiment</th>\n",
              "      <th>message</th>\n",
              "      <th>tweetid</th>\n",
              "    </tr>\n",
              "  </thead>\n",
              "  <tbody>\n",
              "    <tr>\n",
              "      <th>0</th>\n",
              "      <td>Negative</td>\n",
              "      <td>@tiniebeany climate change is an interesting h...</td>\n",
              "      <td>792927353886371840</td>\n",
              "    </tr>\n",
              "    <tr>\n",
              "      <th>1</th>\n",
              "      <td>Positive</td>\n",
              "      <td>RT @NatGeoChannel: Watch #BeforeTheFlood right...</td>\n",
              "      <td>793124211518832641</td>\n",
              "    </tr>\n",
              "    <tr>\n",
              "      <th>2</th>\n",
              "      <td>Positive</td>\n",
              "      <td>Fabulous! Leonardo #DiCaprio's film on #climat...</td>\n",
              "      <td>793124402388832256</td>\n",
              "    </tr>\n",
              "    <tr>\n",
              "      <th>3</th>\n",
              "      <td>Positive</td>\n",
              "      <td>RT @Mick_Fanning: Just watched this amazing do...</td>\n",
              "      <td>793124635873275904</td>\n",
              "    </tr>\n",
              "    <tr>\n",
              "      <th>5</th>\n",
              "      <td>Neutral</td>\n",
              "      <td>Unamshow awache kujinga na iko global warming ...</td>\n",
              "      <td>793125429418815489</td>\n",
              "    </tr>\n",
              "  </tbody>\n",
              "</table>\n",
              "</div>"
            ],
            "text/plain": [
              "  sentiment  ...             tweetid\n",
              "0  Negative  ...  792927353886371840\n",
              "1  Positive  ...  793124211518832641\n",
              "2  Positive  ...  793124402388832256\n",
              "3  Positive  ...  793124635873275904\n",
              "5   Neutral  ...  793125429418815489\n",
              "\n",
              "[5 rows x 3 columns]"
            ]
          },
          "metadata": {
            "tags": []
          },
          "execution_count": 11
        }
      ]
    },
    {
      "cell_type": "code",
      "metadata": {
        "id": "R3yATjd2Qoag"
      },
      "source": [
        "#Extracting the hashtags\n",
        "def hashtag(tweet):\n",
        "   hashtags = []\n",
        "    \n",
        "   for i in tweet:\n",
        "        ht = re.findall(r\"#(\\w+)\", i)\n",
        "        hashtags.append(ht)\n",
        "        \n",
        "   hashtags=sum(hashtags, [])\n",
        "   freq= nltk.FreqDist(hashtags)\n",
        "    \n",
        "   hashtag = pd.DataFrame({'hashtag': list(freq.keys()),'count': list(freq.values())})\n",
        "   hashtag = hashtag.nlargest(15, columns=\"count\")\n",
        "\n",
        "   return hashtag\n",
        "\n",
        "# Extracting the hashtags from tweets in each class\n",
        "Positive = hashtag(df['message'][df['sentiment'] == 'Positive'])\n",
        "Negative = hashtag(df['message'][df['sentiment'] == 'Negative'])\n",
        "Neutral = hashtag(df['message'][df['sentiment'] == 'Neutral'])"
      ],
      "execution_count": 12,
      "outputs": []
    },
    {
      "cell_type": "code",
      "metadata": {
        "colab": {
          "base_uri": "https://localhost:8080/",
          "height": 204
        },
        "id": "RQtcrbgVUlOj",
        "outputId": "401c2b2d-5943-4320-90c7-881c6ee4aaa6"
      },
      "source": [
        "Positive.head()"
      ],
      "execution_count": 13,
      "outputs": [
        {
          "output_type": "execute_result",
          "data": {
            "text/html": [
              "<div>\n",
              "<style scoped>\n",
              "    .dataframe tbody tr th:only-of-type {\n",
              "        vertical-align: middle;\n",
              "    }\n",
              "\n",
              "    .dataframe tbody tr th {\n",
              "        vertical-align: top;\n",
              "    }\n",
              "\n",
              "    .dataframe thead th {\n",
              "        text-align: right;\n",
              "    }\n",
              "</style>\n",
              "<table border=\"1\" class=\"dataframe\">\n",
              "  <thead>\n",
              "    <tr style=\"text-align: right;\">\n",
              "      <th></th>\n",
              "      <th>hashtag</th>\n",
              "      <th>count</th>\n",
              "    </tr>\n",
              "  </thead>\n",
              "  <tbody>\n",
              "    <tr>\n",
              "      <th>2</th>\n",
              "      <td>climate</td>\n",
              "      <td>504</td>\n",
              "    </tr>\n",
              "    <tr>\n",
              "      <th>35</th>\n",
              "      <td>climatechange</td>\n",
              "      <td>272</td>\n",
              "    </tr>\n",
              "    <tr>\n",
              "      <th>0</th>\n",
              "      <td>BeforeTheFlood</td>\n",
              "      <td>233</td>\n",
              "    </tr>\n",
              "    <tr>\n",
              "      <th>70</th>\n",
              "      <td>ActOnClimate</td>\n",
              "      <td>143</td>\n",
              "    </tr>\n",
              "    <tr>\n",
              "      <th>20</th>\n",
              "      <td>ParisAgreement</td>\n",
              "      <td>105</td>\n",
              "    </tr>\n",
              "  </tbody>\n",
              "</table>\n",
              "</div>"
            ],
            "text/plain": [
              "           hashtag  count\n",
              "2          climate    504\n",
              "35   climatechange    272\n",
              "0   BeforeTheFlood    233\n",
              "70    ActOnClimate    143\n",
              "20  ParisAgreement    105"
            ]
          },
          "metadata": {
            "tags": []
          },
          "execution_count": 13
        }
      ]
    },
    {
      "cell_type": "code",
      "metadata": {
        "colab": {
          "base_uri": "https://localhost:8080/",
          "height": 204
        },
        "id": "eTb4O_sCU_An",
        "outputId": "ddd1a0e3-17ba-42b7-834e-fd10c18f0e1f"
      },
      "source": [
        "Negative.head()"
      ],
      "execution_count": 14,
      "outputs": [
        {
          "output_type": "execute_result",
          "data": {
            "text/html": [
              "<div>\n",
              "<style scoped>\n",
              "    .dataframe tbody tr th:only-of-type {\n",
              "        vertical-align: middle;\n",
              "    }\n",
              "\n",
              "    .dataframe tbody tr th {\n",
              "        vertical-align: top;\n",
              "    }\n",
              "\n",
              "    .dataframe thead th {\n",
              "        text-align: right;\n",
              "    }\n",
              "</style>\n",
              "<table border=\"1\" class=\"dataframe\">\n",
              "  <thead>\n",
              "    <tr style=\"text-align: right;\">\n",
              "      <th></th>\n",
              "      <th>hashtag</th>\n",
              "      <th>count</th>\n",
              "    </tr>\n",
              "  </thead>\n",
              "  <tbody>\n",
              "    <tr>\n",
              "      <th>2</th>\n",
              "      <td>tcot</td>\n",
              "      <td>55</td>\n",
              "    </tr>\n",
              "    <tr>\n",
              "      <th>44</th>\n",
              "      <td>MAGA</td>\n",
              "      <td>25</td>\n",
              "    </tr>\n",
              "    <tr>\n",
              "      <th>9</th>\n",
              "      <td>climate</td>\n",
              "      <td>23</td>\n",
              "    </tr>\n",
              "    <tr>\n",
              "      <th>19</th>\n",
              "      <td>Trump</td>\n",
              "      <td>19</td>\n",
              "    </tr>\n",
              "    <tr>\n",
              "      <th>22</th>\n",
              "      <td>climatechange</td>\n",
              "      <td>19</td>\n",
              "    </tr>\n",
              "  </tbody>\n",
              "</table>\n",
              "</div>"
            ],
            "text/plain": [
              "          hashtag  count\n",
              "2            tcot     55\n",
              "44           MAGA     25\n",
              "9         climate     23\n",
              "19          Trump     19\n",
              "22  climatechange     19"
            ]
          },
          "metadata": {
            "tags": []
          },
          "execution_count": 14
        }
      ]
    },
    {
      "cell_type": "code",
      "metadata": {
        "colab": {
          "base_uri": "https://localhost:8080/",
          "height": 204
        },
        "id": "enHA364AVBhm",
        "outputId": "abeec66c-8d0c-44b0-be04-ab3a7cca65b9"
      },
      "source": [
        "Neutral.head()"
      ],
      "execution_count": 15,
      "outputs": [
        {
          "output_type": "execute_result",
          "data": {
            "text/html": [
              "<div>\n",
              "<style scoped>\n",
              "    .dataframe tbody tr th:only-of-type {\n",
              "        vertical-align: middle;\n",
              "    }\n",
              "\n",
              "    .dataframe tbody tr th {\n",
              "        vertical-align: top;\n",
              "    }\n",
              "\n",
              "    .dataframe thead th {\n",
              "        text-align: right;\n",
              "    }\n",
              "</style>\n",
              "<table border=\"1\" class=\"dataframe\">\n",
              "  <thead>\n",
              "    <tr style=\"text-align: right;\">\n",
              "      <th></th>\n",
              "      <th>hashtag</th>\n",
              "      <th>count</th>\n",
              "    </tr>\n",
              "  </thead>\n",
              "  <tbody>\n",
              "    <tr>\n",
              "      <th>21</th>\n",
              "      <td>climate</td>\n",
              "      <td>52</td>\n",
              "    </tr>\n",
              "    <tr>\n",
              "      <th>27</th>\n",
              "      <td>climatechange</td>\n",
              "      <td>34</td>\n",
              "    </tr>\n",
              "    <tr>\n",
              "      <th>18</th>\n",
              "      <td>Trump</td>\n",
              "      <td>19</td>\n",
              "    </tr>\n",
              "    <tr>\n",
              "      <th>26</th>\n",
              "      <td>ClimateChange</td>\n",
              "      <td>16</td>\n",
              "    </tr>\n",
              "    <tr>\n",
              "      <th>28</th>\n",
              "      <td>auspol</td>\n",
              "      <td>13</td>\n",
              "    </tr>\n",
              "  </tbody>\n",
              "</table>\n",
              "</div>"
            ],
            "text/plain": [
              "          hashtag  count\n",
              "21        climate     52\n",
              "27  climatechange     34\n",
              "18          Trump     19\n",
              "26  ClimateChange     16\n",
              "28         auspol     13"
            ]
          },
          "metadata": {
            "tags": []
          },
          "execution_count": 15
        }
      ]
    },
    {
      "cell_type": "markdown",
      "metadata": {
        "id": "wnWH878AVJyy"
      },
      "source": [
        "Tweet messages Cleaning"
      ]
    },
    {
      "cell_type": "code",
      "metadata": {
        "colab": {
          "base_uri": "https://localhost:8080/",
          "height": 204
        },
        "id": "9ux16ZOEVDSn",
        "outputId": "0af42395-21dc-447b-cd73-79c61b2571d6"
      },
      "source": [
        "def TweetCleaner(tweet):\n",
        "  #Remove hashtags\n",
        "  tweet = re.sub(r'#\\w*', '', tweet)\n",
        "\n",
        "  #Convert everything to lowercase\n",
        "  tweet = tweet.lower() \n",
        "\n",
        "  # Remove mentions   \n",
        "  tweet = re.sub('@[\\w]*','',tweet) \n",
        "\n",
        "  #Remove numbers\n",
        "  tweet = re.sub(r'\\d+', '', tweet)\n",
        "\n",
        "  # Remove url's\n",
        "  tweet = re.sub(r'https?:\\/\\/.*\\/\\w*', '', tweet)\n",
        "    \n",
        "  # Remove punctuation\n",
        "  tweet = re.sub(r\"[,.;':@#?!\\&/$]+\\ *\", ' ', tweet)\n",
        "    \n",
        "  # Remove extra whitespace\n",
        "  tweet = re.sub(r'\\s\\s+', ' ', tweet)\n",
        "  tweet=re.sub(r'\\brt\\b', ' ', tweet)\n",
        "  tweet = re.sub(r\"U+FFFD \", ' ', tweet)\n",
        "  tweet = tweet.lstrip(' ')  \n",
        "  return tweet\n",
        "\n",
        "# Clean the tweets in the message column\n",
        "df['message'] = df['message'].apply(TweetCleaner)\n",
        "df.head()\n"
      ],
      "execution_count": 16,
      "outputs": [
        {
          "output_type": "execute_result",
          "data": {
            "text/html": [
              "<div>\n",
              "<style scoped>\n",
              "    .dataframe tbody tr th:only-of-type {\n",
              "        vertical-align: middle;\n",
              "    }\n",
              "\n",
              "    .dataframe tbody tr th {\n",
              "        vertical-align: top;\n",
              "    }\n",
              "\n",
              "    .dataframe thead th {\n",
              "        text-align: right;\n",
              "    }\n",
              "</style>\n",
              "<table border=\"1\" class=\"dataframe\">\n",
              "  <thead>\n",
              "    <tr style=\"text-align: right;\">\n",
              "      <th></th>\n",
              "      <th>sentiment</th>\n",
              "      <th>message</th>\n",
              "      <th>tweetid</th>\n",
              "    </tr>\n",
              "  </thead>\n",
              "  <tbody>\n",
              "    <tr>\n",
              "      <th>0</th>\n",
              "      <td>Negative</td>\n",
              "      <td>climate change is an interesting hustle as it ...</td>\n",
              "      <td>792927353886371840</td>\n",
              "    </tr>\n",
              "    <tr>\n",
              "      <th>1</th>\n",
              "      <td>Positive</td>\n",
              "      <td>watch right here as travels the world to tackl...</td>\n",
              "      <td>793124211518832641</td>\n",
              "    </tr>\n",
              "    <tr>\n",
              "      <th>2</th>\n",
              "      <td>Positive</td>\n",
              "      <td>fabulous leonardo s film on change is brillian...</td>\n",
              "      <td>793124402388832256</td>\n",
              "    </tr>\n",
              "    <tr>\n",
              "      <th>3</th>\n",
              "      <td>Positive</td>\n",
              "      <td>just watched this amazing documentary by leona...</td>\n",
              "      <td>793124635873275904</td>\n",
              "    </tr>\n",
              "    <tr>\n",
              "      <th>5</th>\n",
              "      <td>Neutral</td>\n",
              "      <td>unamshow awache kujinga na iko global warming</td>\n",
              "      <td>793125429418815489</td>\n",
              "    </tr>\n",
              "  </tbody>\n",
              "</table>\n",
              "</div>"
            ],
            "text/plain": [
              "  sentiment  ...             tweetid\n",
              "0  Negative  ...  792927353886371840\n",
              "1  Positive  ...  793124211518832641\n",
              "2  Positive  ...  793124402388832256\n",
              "3  Positive  ...  793124635873275904\n",
              "5   Neutral  ...  793125429418815489\n",
              "\n",
              "[5 rows x 3 columns]"
            ]
          },
          "metadata": {
            "tags": []
          },
          "execution_count": 16
        }
      ]
    },
    {
      "cell_type": "code",
      "metadata": {
        "colab": {
          "base_uri": "https://localhost:8080/",
          "height": 419
        },
        "id": "Y8N3AZ_xeKRO",
        "outputId": "89bc95ca-7aec-4ce2-bf08-2d90811fc3c0"
      },
      "source": [
        "import emoji\n",
        "import emoji\n",
        "# Loading dictionary of smilies\n",
        "#def load_dict_smileys():\n",
        "def load_dict_smileys():\n",
        "    return{\n",
        " ':-)':'smiley',\n",
        " ':)': 'smiley',\n",
        " ':D': 'smiley',\n",
        " 'xD': 'smiley',\n",
        " ':’)': 'smiley',\n",
        " ':’D': 'smiley',\n",
        " ':3': 'smiley',\n",
        " ':]': 'smiley',\n",
        " ':^)':'smiley', \n",
        " ':-]': 'smiley',\n",
        " ':-3': 'smiley',\n",
        " ':->': 'smiley',\n",
        " ':))': 'smiley',\n",
        " '8-)': 'cool',\n",
        " '8)': 'cool',\n",
        " '8-D': 'cool',\n",
        " 'B)': 'cool',\n",
        " 'BD': 'cool',\n",
        " ':-}': 'smiley',\n",
        " ':>': 'smiley',\n",
        " ':}': 'smiley',\n",
        " ':o)': 'smiley',\n",
        " ':c)': 'smiley',\n",
        " '=)': 'smiley',\n",
        " '=D': 'smiley',\n",
        " '=]': 'smiley',\n",
        " ':-D': 'smiley',\n",
        " 'XD': 'smiley',\n",
        " ':o': 'surprised',\n",
        " ':O': 'surprised',\n",
        " '=o': 'surprised',\n",
        " '=O': 'surprised',\n",
        " ':0': 'surprised',\n",
        " ':(': 'sad',\n",
        " ':C': 'sad',\n",
        " ':c': 'sad',\n",
        " '=(': 'sad',\n",
        " '=c': 'sad',\n",
        " '=C': 'sad',\n",
        " ':-(': 'sad',\n",
        " ':-c': 'sad',\n",
        " ':-C': 'sad',\n",
        " ':-<': 'sad',\n",
        " ':<': 'sad',\n",
        " ':[':'sad',\n",
        " ':{': 'sad',\n",
        " ':’(': 'sad',\n",
        " ':P': 'playful',\n",
        " ':p': 'playful',\n",
        " 'xP': 'playful',\n",
        " 'XP': 'playful',\n",
        " '=P': 'playful',\n",
        " '=p': 'playful',\n",
        " 'xp': 'playful',\n",
        " 'xb': 'playful',\n",
        " '❤': 'love',\n",
        " '</3': 'sad',\n",
        " ':/': 'worried',\n",
        " ':-/': 'worried'\n",
        "    }\n",
        "\n",
        "# Removing smilies and emojis\n",
        "def remove_emoticons(tweet):\n",
        "    smilies = load_dict_smileys()\n",
        "    split_tweet = tweet.split(\" \")\n",
        "    for key,val in smilies.items():\n",
        "        if key in tweet:\n",
        "            new_tweet = tweet.replace(key, val)\n",
        "            tweet = new_tweet\n",
        "            tweet = emoji.demojize(tweet)\n",
        "            tweet = ' '.join(tweet.split())\n",
        "            return tweet\n",
        "df['tweet_no_emoji'] = df['message'].apply(lambda x: remove_emoticons(x))\n",
        "df"
      ],
      "execution_count": 17,
      "outputs": [
        {
          "output_type": "execute_result",
          "data": {
            "text/html": [
              "<div>\n",
              "<style scoped>\n",
              "    .dataframe tbody tr th:only-of-type {\n",
              "        vertical-align: middle;\n",
              "    }\n",
              "\n",
              "    .dataframe tbody tr th {\n",
              "        vertical-align: top;\n",
              "    }\n",
              "\n",
              "    .dataframe thead th {\n",
              "        text-align: right;\n",
              "    }\n",
              "</style>\n",
              "<table border=\"1\" class=\"dataframe\">\n",
              "  <thead>\n",
              "    <tr style=\"text-align: right;\">\n",
              "      <th></th>\n",
              "      <th>sentiment</th>\n",
              "      <th>message</th>\n",
              "      <th>tweetid</th>\n",
              "      <th>tweet_no_emoji</th>\n",
              "    </tr>\n",
              "  </thead>\n",
              "  <tbody>\n",
              "    <tr>\n",
              "      <th>0</th>\n",
              "      <td>Negative</td>\n",
              "      <td>climate change is an interesting hustle as it ...</td>\n",
              "      <td>792927353886371840</td>\n",
              "      <td>None</td>\n",
              "    </tr>\n",
              "    <tr>\n",
              "      <th>1</th>\n",
              "      <td>Positive</td>\n",
              "      <td>watch right here as travels the world to tackl...</td>\n",
              "      <td>793124211518832641</td>\n",
              "      <td>None</td>\n",
              "    </tr>\n",
              "    <tr>\n",
              "      <th>2</th>\n",
              "      <td>Positive</td>\n",
              "      <td>fabulous leonardo s film on change is brillian...</td>\n",
              "      <td>793124402388832256</td>\n",
              "      <td>None</td>\n",
              "    </tr>\n",
              "    <tr>\n",
              "      <th>3</th>\n",
              "      <td>Positive</td>\n",
              "      <td>just watched this amazing documentary by leona...</td>\n",
              "      <td>793124635873275904</td>\n",
              "      <td>None</td>\n",
              "    </tr>\n",
              "    <tr>\n",
              "      <th>5</th>\n",
              "      <td>Neutral</td>\n",
              "      <td>unamshow awache kujinga na iko global warming</td>\n",
              "      <td>793125429418815489</td>\n",
              "      <td>None</td>\n",
              "    </tr>\n",
              "    <tr>\n",
              "      <th>...</th>\n",
              "      <td>...</td>\n",
              "      <td>...</td>\n",
              "      <td>...</td>\n",
              "      <td>...</td>\n",
              "    </tr>\n",
              "    <tr>\n",
              "      <th>43936</th>\n",
              "      <td>Positive</td>\n",
              "      <td>global warming has negative effect on the melt...</td>\n",
              "      <td>791293803877502976</td>\n",
              "      <td>None</td>\n",
              "    </tr>\n",
              "    <tr>\n",
              "      <th>43938</th>\n",
              "      <td>Positive</td>\n",
              "      <td>dear yeah right human mediated climate change ...</td>\n",
              "      <td>791307031919550464</td>\n",
              "      <td>None</td>\n",
              "    </tr>\n",
              "    <tr>\n",
              "      <th>43939</th>\n",
              "      <td>Positive</td>\n",
              "      <td>what will your respective parties do to preven...</td>\n",
              "      <td>791316857403936768</td>\n",
              "      <td>None</td>\n",
              "    </tr>\n",
              "    <tr>\n",
              "      <th>43941</th>\n",
              "      <td>Neutral</td>\n",
              "      <td>i still can q t believe this gif of taehyung s...</td>\n",
              "      <td>791390042136641537</td>\n",
              "      <td>None</td>\n",
              "    </tr>\n",
              "    <tr>\n",
              "      <th>43942</th>\n",
              "      <td>Positive</td>\n",
              "      <td>the wealthy + fossil fuel industry know climat...</td>\n",
              "      <td>791401610308038656</td>\n",
              "      <td>None</td>\n",
              "    </tr>\n",
              "  </tbody>\n",
              "</table>\n",
              "<p>34667 rows × 4 columns</p>\n",
              "</div>"
            ],
            "text/plain": [
              "      sentiment  ... tweet_no_emoji\n",
              "0      Negative  ...           None\n",
              "1      Positive  ...           None\n",
              "2      Positive  ...           None\n",
              "3      Positive  ...           None\n",
              "5       Neutral  ...           None\n",
              "...         ...  ...            ...\n",
              "43936  Positive  ...           None\n",
              "43938  Positive  ...           None\n",
              "43939  Positive  ...           None\n",
              "43941   Neutral  ...           None\n",
              "43942  Positive  ...           None\n",
              "\n",
              "[34667 rows x 4 columns]"
            ]
          },
          "metadata": {
            "tags": []
          },
          "execution_count": 17
        }
      ]
    },
    {
      "cell_type": "code",
      "metadata": {
        "id": "Z-f8d0QxWM36"
      },
      "source": [
        "def remove_pattern(input_txt, pattern):\n",
        "    r = re.findall(pattern, input_txt)\n",
        "    for word in r:\n",
        "        input_txt = re.sub(word, \"\", input_txt)\n",
        "    return input_txt"
      ],
      "execution_count": 18,
      "outputs": []
    },
    {
      "cell_type": "code",
      "metadata": {
        "colab": {
          "base_uri": "https://localhost:8080/",
          "height": 419
        },
        "id": "gF0x6D4uWgp0",
        "outputId": "14e01e64-87e4-4217-ebde-75a33db5ffda"
      },
      "source": [
        "df"
      ],
      "execution_count": 19,
      "outputs": [
        {
          "output_type": "execute_result",
          "data": {
            "text/html": [
              "<div>\n",
              "<style scoped>\n",
              "    .dataframe tbody tr th:only-of-type {\n",
              "        vertical-align: middle;\n",
              "    }\n",
              "\n",
              "    .dataframe tbody tr th {\n",
              "        vertical-align: top;\n",
              "    }\n",
              "\n",
              "    .dataframe thead th {\n",
              "        text-align: right;\n",
              "    }\n",
              "</style>\n",
              "<table border=\"1\" class=\"dataframe\">\n",
              "  <thead>\n",
              "    <tr style=\"text-align: right;\">\n",
              "      <th></th>\n",
              "      <th>sentiment</th>\n",
              "      <th>message</th>\n",
              "      <th>tweetid</th>\n",
              "      <th>tweet_no_emoji</th>\n",
              "    </tr>\n",
              "  </thead>\n",
              "  <tbody>\n",
              "    <tr>\n",
              "      <th>0</th>\n",
              "      <td>Negative</td>\n",
              "      <td>climate change is an interesting hustle as it ...</td>\n",
              "      <td>792927353886371840</td>\n",
              "      <td>None</td>\n",
              "    </tr>\n",
              "    <tr>\n",
              "      <th>1</th>\n",
              "      <td>Positive</td>\n",
              "      <td>watch right here as travels the world to tackl...</td>\n",
              "      <td>793124211518832641</td>\n",
              "      <td>None</td>\n",
              "    </tr>\n",
              "    <tr>\n",
              "      <th>2</th>\n",
              "      <td>Positive</td>\n",
              "      <td>fabulous leonardo s film on change is brillian...</td>\n",
              "      <td>793124402388832256</td>\n",
              "      <td>None</td>\n",
              "    </tr>\n",
              "    <tr>\n",
              "      <th>3</th>\n",
              "      <td>Positive</td>\n",
              "      <td>just watched this amazing documentary by leona...</td>\n",
              "      <td>793124635873275904</td>\n",
              "      <td>None</td>\n",
              "    </tr>\n",
              "    <tr>\n",
              "      <th>5</th>\n",
              "      <td>Neutral</td>\n",
              "      <td>unamshow awache kujinga na iko global warming</td>\n",
              "      <td>793125429418815489</td>\n",
              "      <td>None</td>\n",
              "    </tr>\n",
              "    <tr>\n",
              "      <th>...</th>\n",
              "      <td>...</td>\n",
              "      <td>...</td>\n",
              "      <td>...</td>\n",
              "      <td>...</td>\n",
              "    </tr>\n",
              "    <tr>\n",
              "      <th>43936</th>\n",
              "      <td>Positive</td>\n",
              "      <td>global warming has negative effect on the melt...</td>\n",
              "      <td>791293803877502976</td>\n",
              "      <td>None</td>\n",
              "    </tr>\n",
              "    <tr>\n",
              "      <th>43938</th>\n",
              "      <td>Positive</td>\n",
              "      <td>dear yeah right human mediated climate change ...</td>\n",
              "      <td>791307031919550464</td>\n",
              "      <td>None</td>\n",
              "    </tr>\n",
              "    <tr>\n",
              "      <th>43939</th>\n",
              "      <td>Positive</td>\n",
              "      <td>what will your respective parties do to preven...</td>\n",
              "      <td>791316857403936768</td>\n",
              "      <td>None</td>\n",
              "    </tr>\n",
              "    <tr>\n",
              "      <th>43941</th>\n",
              "      <td>Neutral</td>\n",
              "      <td>i still can q t believe this gif of taehyung s...</td>\n",
              "      <td>791390042136641537</td>\n",
              "      <td>None</td>\n",
              "    </tr>\n",
              "    <tr>\n",
              "      <th>43942</th>\n",
              "      <td>Positive</td>\n",
              "      <td>the wealthy + fossil fuel industry know climat...</td>\n",
              "      <td>791401610308038656</td>\n",
              "      <td>None</td>\n",
              "    </tr>\n",
              "  </tbody>\n",
              "</table>\n",
              "<p>34667 rows × 4 columns</p>\n",
              "</div>"
            ],
            "text/plain": [
              "      sentiment  ... tweet_no_emoji\n",
              "0      Negative  ...           None\n",
              "1      Positive  ...           None\n",
              "2      Positive  ...           None\n",
              "3      Positive  ...           None\n",
              "5       Neutral  ...           None\n",
              "...         ...  ...            ...\n",
              "43936  Positive  ...           None\n",
              "43938  Positive  ...           None\n",
              "43939  Positive  ...           None\n",
              "43941   Neutral  ...           None\n",
              "43942  Positive  ...           None\n",
              "\n",
              "[34667 rows x 4 columns]"
            ]
          },
          "metadata": {
            "tags": []
          },
          "execution_count": 19
        }
      ]
    },
    {
      "cell_type": "code",
      "metadata": {
        "colab": {
          "base_uri": "https://localhost:8080/",
          "height": 137
        },
        "id": "XQ3PSmFSXX94",
        "outputId": "a50df09a-aed2-4f9e-eb7e-88db63aa5f0e"
      },
      "source": [
        "stopwords_list=stopwords.words('english')\n",
        "from nltk.corpus import stopwords\n",
        "\" , \".join(stopwords.words('english'))"
      ],
      "execution_count": 20,
      "outputs": [
        {
          "output_type": "execute_result",
          "data": {
            "application/vnd.google.colaboratory.intrinsic+json": {
              "type": "string"
            },
            "text/plain": [
              "\"i , me , my , myself , we , our , ours , ourselves , you , you're , you've , you'll , you'd , your , yours , yourself , yourselves , he , him , his , himself , she , she's , her , hers , herself , it , it's , its , itself , they , them , their , theirs , themselves , what , which , who , whom , this , that , that'll , these , those , am , is , are , was , were , be , been , being , have , has , had , having , do , does , did , doing , a , an , the , and , but , if , or , because , as , until , while , of , at , by , for , with , about , against , between , into , through , during , before , after , above , below , to , from , up , down , in , out , on , off , over , under , again , further , then , once , here , there , when , where , why , how , all , any , both , each , few , more , most , other , some , such , no , nor , not , only , own , same , so , than , too , very , s , t , can , will , just , don , don't , should , should've , now , d , ll , m , o , re , ve , y , ain , aren , aren't , couldn , couldn't , didn , didn't , doesn , doesn't , hadn , hadn't , hasn , hasn't , haven , haven't , isn , isn't , ma , mightn , mightn't , mustn , mustn't , needn , needn't , shan , shan't , shouldn , shouldn't , wasn , wasn't , weren , weren't , won , won't , wouldn , wouldn't\""
            ]
          },
          "metadata": {
            "tags": []
          },
          "execution_count": 20
        }
      ]
    },
    {
      "cell_type": "code",
      "metadata": {
        "colab": {
          "base_uri": "https://localhost:8080/",
          "height": 359
        },
        "id": "ATlK0ECkXklq",
        "outputId": "0e15655f-71a0-4cd4-bf7c-08f09108dfc9"
      },
      "source": [
        "Stop_Words=set(stopwords.words('english'))\n",
        "def cleaning_stopwords(message):\n",
        "    return \" \".join([word for word in str(message).split()if word not in Stop_Words])\n",
        "df['message'] = df['message'].apply(cleaning_stopwords)\n",
        "df.head(10)"
      ],
      "execution_count": 21,
      "outputs": [
        {
          "output_type": "execute_result",
          "data": {
            "text/html": [
              "<div>\n",
              "<style scoped>\n",
              "    .dataframe tbody tr th:only-of-type {\n",
              "        vertical-align: middle;\n",
              "    }\n",
              "\n",
              "    .dataframe tbody tr th {\n",
              "        vertical-align: top;\n",
              "    }\n",
              "\n",
              "    .dataframe thead th {\n",
              "        text-align: right;\n",
              "    }\n",
              "</style>\n",
              "<table border=\"1\" class=\"dataframe\">\n",
              "  <thead>\n",
              "    <tr style=\"text-align: right;\">\n",
              "      <th></th>\n",
              "      <th>sentiment</th>\n",
              "      <th>message</th>\n",
              "      <th>tweetid</th>\n",
              "      <th>tweet_no_emoji</th>\n",
              "    </tr>\n",
              "  </thead>\n",
              "  <tbody>\n",
              "    <tr>\n",
              "      <th>0</th>\n",
              "      <td>Negative</td>\n",
              "      <td>climate change interesting hustle global warmi...</td>\n",
              "      <td>792927353886371840</td>\n",
              "      <td>None</td>\n",
              "    </tr>\n",
              "    <tr>\n",
              "      <th>1</th>\n",
              "      <td>Positive</td>\n",
              "      <td>watch right travels world tackle climate chang...</td>\n",
              "      <td>793124211518832641</td>\n",
              "      <td>None</td>\n",
              "    </tr>\n",
              "    <tr>\n",
              "      <th>2</th>\n",
              "      <td>Positive</td>\n",
              "      <td>fabulous leonardo film change brilliant watch via</td>\n",
              "      <td>793124402388832256</td>\n",
              "      <td>None</td>\n",
              "    </tr>\n",
              "    <tr>\n",
              "      <th>3</th>\n",
              "      <td>Positive</td>\n",
              "      <td>watched amazing documentary leonardodicaprio c...</td>\n",
              "      <td>793124635873275904</td>\n",
              "      <td>None</td>\n",
              "    </tr>\n",
              "    <tr>\n",
              "      <th>5</th>\n",
              "      <td>Neutral</td>\n",
              "      <td>unamshow awache kujinga na iko global warming</td>\n",
              "      <td>793125429418815489</td>\n",
              "      <td>None</td>\n",
              "    </tr>\n",
              "    <tr>\n",
              "      <th>8</th>\n",
              "      <td>Neutral</td>\n",
              "      <td>leonardo dicaprio climate change documentary f...</td>\n",
              "      <td>793127097854197761</td>\n",
              "      <td>None</td>\n",
              "    </tr>\n",
              "    <tr>\n",
              "      <th>9</th>\n",
              "      <td>Positive</td>\n",
              "      <td>watch right travels world tackle climate change</td>\n",
              "      <td>793127346106753028</td>\n",
              "      <td>None</td>\n",
              "    </tr>\n",
              "    <tr>\n",
              "      <th>10</th>\n",
              "      <td>Positive</td>\n",
              "      <td>vital public health community addresses climat...</td>\n",
              "      <td>793127915269480448</td>\n",
              "      <td>None</td>\n",
              "    </tr>\n",
              "    <tr>\n",
              "      <th>11</th>\n",
              "      <td>Positive</td>\n",
              "      <td>bangladesh cause climate change country need ã...</td>\n",
              "      <td>793129746003615745</td>\n",
              "      <td>None</td>\n",
              "    </tr>\n",
              "    <tr>\n",
              "      <th>12</th>\n",
              "      <td>Positive</td>\n",
              "      <td>watch right travels world tackle climate chang...</td>\n",
              "      <td>793129922210492417</td>\n",
              "      <td>None</td>\n",
              "    </tr>\n",
              "  </tbody>\n",
              "</table>\n",
              "</div>"
            ],
            "text/plain": [
              "   sentiment  ... tweet_no_emoji\n",
              "0   Negative  ...           None\n",
              "1   Positive  ...           None\n",
              "2   Positive  ...           None\n",
              "3   Positive  ...           None\n",
              "5    Neutral  ...           None\n",
              "8    Neutral  ...           None\n",
              "9   Positive  ...           None\n",
              "10  Positive  ...           None\n",
              "11  Positive  ...           None\n",
              "12  Positive  ...           None\n",
              "\n",
              "[10 rows x 4 columns]"
            ]
          },
          "metadata": {
            "tags": []
          },
          "execution_count": 21
        }
      ]
    },
    {
      "cell_type": "markdown",
      "metadata": {
        "id": "Q8ascTzNX-Nl"
      },
      "source": [
        "Stemming"
      ]
    },
    {
      "cell_type": "code",
      "metadata": {
        "colab": {
          "base_uri": "https://localhost:8080/",
          "height": 204
        },
        "id": "qNDCwd6VXvXs",
        "outputId": "48bc8880-adfa-446f-8376-c2b792d19053"
      },
      "source": [
        "st=nltk.PorterStemmer()\n",
        "def stemming_on_text(df):\n",
        "    message=[st.stem(word) for word in df]\n",
        "    return df\n",
        "df['message'] = df['message'].apply(stemming_on_text)\n",
        "df.head()"
      ],
      "execution_count": 22,
      "outputs": [
        {
          "output_type": "execute_result",
          "data": {
            "text/html": [
              "<div>\n",
              "<style scoped>\n",
              "    .dataframe tbody tr th:only-of-type {\n",
              "        vertical-align: middle;\n",
              "    }\n",
              "\n",
              "    .dataframe tbody tr th {\n",
              "        vertical-align: top;\n",
              "    }\n",
              "\n",
              "    .dataframe thead th {\n",
              "        text-align: right;\n",
              "    }\n",
              "</style>\n",
              "<table border=\"1\" class=\"dataframe\">\n",
              "  <thead>\n",
              "    <tr style=\"text-align: right;\">\n",
              "      <th></th>\n",
              "      <th>sentiment</th>\n",
              "      <th>message</th>\n",
              "      <th>tweetid</th>\n",
              "      <th>tweet_no_emoji</th>\n",
              "    </tr>\n",
              "  </thead>\n",
              "  <tbody>\n",
              "    <tr>\n",
              "      <th>0</th>\n",
              "      <td>Negative</td>\n",
              "      <td>climate change interesting hustle global warmi...</td>\n",
              "      <td>792927353886371840</td>\n",
              "      <td>None</td>\n",
              "    </tr>\n",
              "    <tr>\n",
              "      <th>1</th>\n",
              "      <td>Positive</td>\n",
              "      <td>watch right travels world tackle climate chang...</td>\n",
              "      <td>793124211518832641</td>\n",
              "      <td>None</td>\n",
              "    </tr>\n",
              "    <tr>\n",
              "      <th>2</th>\n",
              "      <td>Positive</td>\n",
              "      <td>fabulous leonardo film change brilliant watch via</td>\n",
              "      <td>793124402388832256</td>\n",
              "      <td>None</td>\n",
              "    </tr>\n",
              "    <tr>\n",
              "      <th>3</th>\n",
              "      <td>Positive</td>\n",
              "      <td>watched amazing documentary leonardodicaprio c...</td>\n",
              "      <td>793124635873275904</td>\n",
              "      <td>None</td>\n",
              "    </tr>\n",
              "    <tr>\n",
              "      <th>5</th>\n",
              "      <td>Neutral</td>\n",
              "      <td>unamshow awache kujinga na iko global warming</td>\n",
              "      <td>793125429418815489</td>\n",
              "      <td>None</td>\n",
              "    </tr>\n",
              "  </tbody>\n",
              "</table>\n",
              "</div>"
            ],
            "text/plain": [
              "  sentiment  ... tweet_no_emoji\n",
              "0  Negative  ...           None\n",
              "1  Positive  ...           None\n",
              "2  Positive  ...           None\n",
              "3  Positive  ...           None\n",
              "5   Neutral  ...           None\n",
              "\n",
              "[5 rows x 4 columns]"
            ]
          },
          "metadata": {
            "tags": []
          },
          "execution_count": 22
        }
      ]
    },
    {
      "cell_type": "markdown",
      "metadata": {
        "id": "jO_Xv2b0YVFH"
      },
      "source": [
        "Lemmatization"
      ]
    },
    {
      "cell_type": "code",
      "metadata": {
        "colab": {
          "base_uri": "https://localhost:8080/",
          "height": 204
        },
        "id": "4e8GAh-oYH0e",
        "outputId": "5e7ca367-367c-4dfb-bbf1-d2283bfb8953"
      },
      "source": [
        "lm=nltk.WordNetLemmatizer()\n",
        "def lemmatizer_on_text(df):\n",
        "    message=[lm.lemmatize(word) for word in df]\n",
        "    return df\n",
        "df['message'] = df['message'].apply(lemmatizer_on_text)\n",
        "df.head()"
      ],
      "execution_count": 23,
      "outputs": [
        {
          "output_type": "execute_result",
          "data": {
            "text/html": [
              "<div>\n",
              "<style scoped>\n",
              "    .dataframe tbody tr th:only-of-type {\n",
              "        vertical-align: middle;\n",
              "    }\n",
              "\n",
              "    .dataframe tbody tr th {\n",
              "        vertical-align: top;\n",
              "    }\n",
              "\n",
              "    .dataframe thead th {\n",
              "        text-align: right;\n",
              "    }\n",
              "</style>\n",
              "<table border=\"1\" class=\"dataframe\">\n",
              "  <thead>\n",
              "    <tr style=\"text-align: right;\">\n",
              "      <th></th>\n",
              "      <th>sentiment</th>\n",
              "      <th>message</th>\n",
              "      <th>tweetid</th>\n",
              "      <th>tweet_no_emoji</th>\n",
              "    </tr>\n",
              "  </thead>\n",
              "  <tbody>\n",
              "    <tr>\n",
              "      <th>0</th>\n",
              "      <td>Negative</td>\n",
              "      <td>climate change interesting hustle global warmi...</td>\n",
              "      <td>792927353886371840</td>\n",
              "      <td>None</td>\n",
              "    </tr>\n",
              "    <tr>\n",
              "      <th>1</th>\n",
              "      <td>Positive</td>\n",
              "      <td>watch right travels world tackle climate chang...</td>\n",
              "      <td>793124211518832641</td>\n",
              "      <td>None</td>\n",
              "    </tr>\n",
              "    <tr>\n",
              "      <th>2</th>\n",
              "      <td>Positive</td>\n",
              "      <td>fabulous leonardo film change brilliant watch via</td>\n",
              "      <td>793124402388832256</td>\n",
              "      <td>None</td>\n",
              "    </tr>\n",
              "    <tr>\n",
              "      <th>3</th>\n",
              "      <td>Positive</td>\n",
              "      <td>watched amazing documentary leonardodicaprio c...</td>\n",
              "      <td>793124635873275904</td>\n",
              "      <td>None</td>\n",
              "    </tr>\n",
              "    <tr>\n",
              "      <th>5</th>\n",
              "      <td>Neutral</td>\n",
              "      <td>unamshow awache kujinga na iko global warming</td>\n",
              "      <td>793125429418815489</td>\n",
              "      <td>None</td>\n",
              "    </tr>\n",
              "  </tbody>\n",
              "</table>\n",
              "</div>"
            ],
            "text/plain": [
              "  sentiment  ... tweet_no_emoji\n",
              "0  Negative  ...           None\n",
              "1  Positive  ...           None\n",
              "2  Positive  ...           None\n",
              "3  Positive  ...           None\n",
              "5   Neutral  ...           None\n",
              "\n",
              "[5 rows x 4 columns]"
            ]
          },
          "metadata": {
            "tags": []
          },
          "execution_count": 23
        }
      ]
    },
    {
      "cell_type": "code",
      "metadata": {
        "colab": {
          "base_uri": "https://localhost:8080/",
          "height": 204
        },
        "id": "6AyhsiHAYbLo",
        "outputId": "52fe8471-b571-4234-d153-813734da5fe5"
      },
      "source": [
        "def word_count(sentence):\n",
        "    return len(sentence.split())\n",
        "    \n",
        "df['word count'] = df['message'].apply(word_count)\n",
        "df.head()"
      ],
      "execution_count": 24,
      "outputs": [
        {
          "output_type": "execute_result",
          "data": {
            "text/html": [
              "<div>\n",
              "<style scoped>\n",
              "    .dataframe tbody tr th:only-of-type {\n",
              "        vertical-align: middle;\n",
              "    }\n",
              "\n",
              "    .dataframe tbody tr th {\n",
              "        vertical-align: top;\n",
              "    }\n",
              "\n",
              "    .dataframe thead th {\n",
              "        text-align: right;\n",
              "    }\n",
              "</style>\n",
              "<table border=\"1\" class=\"dataframe\">\n",
              "  <thead>\n",
              "    <tr style=\"text-align: right;\">\n",
              "      <th></th>\n",
              "      <th>sentiment</th>\n",
              "      <th>message</th>\n",
              "      <th>tweetid</th>\n",
              "      <th>tweet_no_emoji</th>\n",
              "      <th>word count</th>\n",
              "    </tr>\n",
              "  </thead>\n",
              "  <tbody>\n",
              "    <tr>\n",
              "      <th>0</th>\n",
              "      <td>Negative</td>\n",
              "      <td>climate change interesting hustle global warmi...</td>\n",
              "      <td>792927353886371840</td>\n",
              "      <td>None</td>\n",
              "      <td>12</td>\n",
              "    </tr>\n",
              "    <tr>\n",
              "      <th>1</th>\n",
              "      <td>Positive</td>\n",
              "      <td>watch right travels world tackle climate chang...</td>\n",
              "      <td>793124211518832641</td>\n",
              "      <td>None</td>\n",
              "      <td>8</td>\n",
              "    </tr>\n",
              "    <tr>\n",
              "      <th>2</th>\n",
              "      <td>Positive</td>\n",
              "      <td>fabulous leonardo film change brilliant watch via</td>\n",
              "      <td>793124402388832256</td>\n",
              "      <td>None</td>\n",
              "      <td>7</td>\n",
              "    </tr>\n",
              "    <tr>\n",
              "      <th>3</th>\n",
              "      <td>Positive</td>\n",
              "      <td>watched amazing documentary leonardodicaprio c...</td>\n",
              "      <td>793124635873275904</td>\n",
              "      <td>None</td>\n",
              "      <td>8</td>\n",
              "    </tr>\n",
              "    <tr>\n",
              "      <th>5</th>\n",
              "      <td>Neutral</td>\n",
              "      <td>unamshow awache kujinga na iko global warming</td>\n",
              "      <td>793125429418815489</td>\n",
              "      <td>None</td>\n",
              "      <td>7</td>\n",
              "    </tr>\n",
              "  </tbody>\n",
              "</table>\n",
              "</div>"
            ],
            "text/plain": [
              "  sentiment  ... word count\n",
              "0  Negative  ...         12\n",
              "1  Positive  ...          8\n",
              "2  Positive  ...          7\n",
              "3  Positive  ...          8\n",
              "5   Neutral  ...          7\n",
              "\n",
              "[5 rows x 5 columns]"
            ]
          },
          "metadata": {
            "tags": []
          },
          "execution_count": 24
        }
      ]
    },
    {
      "cell_type": "code",
      "metadata": {
        "colab": {
          "base_uri": "https://localhost:8080/",
          "height": 660
        },
        "id": "E_W_MaWUYwfm",
        "outputId": "107a5cf6-1230-4bb6-ec96-c00a053951e2"
      },
      "source": [
        "style.use('seaborn-pastel')\n",
        "\n",
        "fig, axes = plt.subplots(ncols=2, nrows=1, figsize=(20, 10), dpi=100)\n",
        "sns.countplot(y=df['sentiment'], facecolor=(0, 0, 0, 0), linewidth=5, edgecolor=sns.color_palette(\"dark\", 3), ax=axes[0])\n",
        "labels=['Positive', 'Neutral', 'Negative']\n",
        "axes[1].pie(df['sentiment'].value_counts(), labels=labels, shadow=True, autopct='%1.2f%%', startangle=210, explode = (0.05, 0.05, 0.05))\n",
        "fig.suptitle('Tweet distribution', fontsize=20)\n",
        "plt.show()"
      ],
      "execution_count": 25,
      "outputs": [
        {
          "output_type": "display_data",
          "data": {
            "image/png": "[encoded data removed]",
            "text/plain": [
              "<Figure size 2000x1000 with 2 Axes>"
            ]
          },
          "metadata": {
            "tags": []
          }
        }
      ]
    },
    {
      "cell_type": "code",
      "metadata": {
        "colab": {
          "base_uri": "https://localhost:8080/",
          "height": 552
        },
        "id": "vG2pB0XVatw9",
        "outputId": "092d69ec-ad37-4fdb-d978-4ce35d0dc500"
      },
      "source": [
        "x = df['word count'][df.sentiment == 'Positive']\n",
        "y = df['word count'][df.sentiment == 'Negative']\n",
        "z = df['word count'][df.sentiment == 'Neutral']\n",
        "\n",
        "plt.figure(figsize=(20,8))\n",
        "plt.xlim(0,45)\n",
        "plt.xlabel('word count')\n",
        "plt.ylabel('frequency')\n",
        "g = plt.hist([x, y,z], color=['g','r','b'], alpha=0.5, label=['positive','negative','neutral'])\n",
        "plt.legend(loc='upper right')  \n",
        "plt.show()"
      ],
      "execution_count": 26,
      "outputs": [
        {
          "output_type": "stream",
          "text": [
            "/usr/local/lib/python3.7/dist-packages/numpy/core/_asarray.py:83: VisibleDeprecationWarning: Creating an ndarray from ragged nested sequences (which is a list-or-tuple of lists-or-tuples-or ndarrays with different lengths or shapes) is deprecated. If you meant to do this, you must specify 'dtype=object' when creating the ndarray\n",
            "  return array(a, dtype, copy=False, order=order)\n"
          ],
          "name": "stderr"
        },
        {
          "output_type": "display_data",
          "data": {
            "image/png": "[encoded data removed]",
            "text/plain": [
              "<Figure size 1440x576 with 1 Axes>"
            ]
          },
          "metadata": {
            "tags": []
          }
        }
      ]
    },
    {
      "cell_type": "code",
      "metadata": {
        "colab": {
          "base_uri": "https://localhost:8080/",
          "height": 626
        },
        "id": "bYXmh2ryl3yr",
        "outputId": "2d203771-f5a3-45bb-8db6-18d4d9c285f1"
      },
      "source": [
        "sns.barplot(data=Positive,y=Positive['hashtag'], x=Positive['count'], palette=(\"Greens_r\") )\n",
        "plt.title('Hashtags by Positive sentiment')\n",
        "plt.tight_layout()"
      ],
      "execution_count": 27,
      "outputs": [
        {
          "output_type": "display_data",
          "data": {
            "image/png": "[encoded data removed]",
            "text/plain": [
              "<Figure size 921.6x633.6 with 1 Axes>"
            ]
          },
          "metadata": {
            "tags": []
          }
        }
      ]
    },
    {
      "cell_type": "code",
      "metadata": {
        "colab": {
          "base_uri": "https://localhost:8080/",
          "height": 626
        },
        "id": "fk_BVG0XmOD3",
        "outputId": "d654b63d-5b40-4aa9-9955-c9b304eba7fc"
      },
      "source": [
        "sns.barplot(data=Negative,y=Negative['hashtag'], x=Negative['count'], palette=(\"Reds_r\") )\n",
        "plt.title('Hashtags by Negative sentiment')\n",
        "plt.tight_layout()"
      ],
      "execution_count": 28,
      "outputs": [
        {
          "output_type": "display_data",
          "data": {
            "image/png": "[encoded data removed]",
            "text/plain": [
              "<Figure size 921.6x633.6 with 1 Axes>"
            ]
          },
          "metadata": {
            "tags": []
          }
        }
      ]
    },
    {
      "cell_type": "code",
      "metadata": {
        "colab": {
          "base_uri": "https://localhost:8080/",
          "height": 626
        },
        "id": "5UtIEEa-mjCD",
        "outputId": "769076db-7401-496a-a1da-7faa7c3bb35c"
      },
      "source": [
        "sns.barplot(data=Neutral,y=Neutral['hashtag'], x=Neutral['count'], palette=(\"Spectral_r\") )\n",
        "plt.title('Hashtags by Neutral sentiment')\n",
        "plt.tight_layout()"
      ],
      "execution_count": 29,
      "outputs": [
        {
          "output_type": "display_data",
          "data": {
            "image/png": "[encoded data removed]",
            "text/plain": [
              "<Figure size 921.6x633.6 with 1 Axes>"
            ]
          },
          "metadata": {
            "tags": []
          }
        }
      ]
    },
    {
      "cell_type": "code",
      "metadata": {
        "id": "p7MYwQEWnUPX"
      },
      "source": [
        ""
      ],
      "execution_count": 29,
      "outputs": []
    }
  ]
}